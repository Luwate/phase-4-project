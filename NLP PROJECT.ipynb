{
 "cells": [
  {
   "cell_type": "markdown",
   "metadata": {},
   "source": [
    "### Apple Sentiment Analysis Group 4 Project\n",
    " Collaboraters :\n",
    "\n",
    " -Luwate Inda\n",
    "\n",
    " -Cynthia Cheruto\n",
    "\n",
    " -James Ngumo\n",
    "\n",
    " -Batuli Abdullah\n",
    " \n",
    " -Peter"
   ]
  },
  {
   "cell_type": "markdown",
   "metadata": {},
   "source": [
    "### Overview \n",
    "As a top-tier tech company, Apple boasts a robust portfolio from smartphones such as the iPhone, tablets like the iPad, laptops like the MacBook, and wearables like the Apple Watch. Its products elicit strong hunger among consumers and chatter on social media. Track Sentiment on Social Media To Help Address Customer Concerns Content With The Apple Experience Social media analysis helps companies comprehend the perception of their audience such that it is possible to offer insights for improvement of services or commodity. Sentiment Analysis of Apple on Social Media Overview: This project analyzes sentiment around Apple on social media, paying particular attention to popular topics, recurring issues, and methods to extract sentiment. This helps us to determine which analysis techniques work better, which product aspects are dominating the discussions and what are the stakeholders frustrations."
   ]
  },
  {
   "cell_type": "markdown",
   "metadata": {},
   "source": [
    "### Businnes Understanding\n",
    "Objective\n",
    "Apple's reputation and customer experience rely heavily on consumer sentiment. Analyzing customer feedback and product discussions can help Apple refine its strategies in product development, customer service, and marketing.\n",
    "\n",
    "This project aims to:\n",
    "\n",
    "-Assess overall sentiment toward Apple and its products on social media.\n",
    "\n",
    "-Identify the most effective sentiment analysis methods for Apple-related discussions.\n",
    "\n",
    "-Analyze key discussion topics, particularly by product category.\n",
    "\n",
    "-Detect potential dissatisfaction through the use of curse words and other frustration indicators.\n",
    "\n",
    "Relevance\n",
    "By monitoring and analyzing sentiment trends, Apple can:\n",
    "\n",
    "-Identify and respond to customer pain points.\n",
    "\n",
    "-Understand the public reception of new products, such as the iPhone.\n",
    "-Refine communication strategies to enhance customer trust and loyalty.\n",
    "-Strengthen its brand reputation by proactively addressing stakeholder frustrations."
   ]
  },
  {
   "cell_type": "markdown",
   "metadata": {},
   "source": [
    "### Business Problem\n",
    "Despite Apple's market leadership, social media analysis highlights areas for improvement in customer satisfaction and communication:\n",
    "\n",
    "-Sentiment Analysis Accuracy: Various methods exist for sentiment analysis, but not all provide consistent results. Identifying the most reliable tool or combination is essential for actionable insights.\n",
    "\n",
    "-Dominant Product Discussions: The iPhone is the most discussed product, but it's important to determine whether these discussions are mainly positive or mixed to gauge public reception.\n",
    "\n",
    "-Frustration Indicators: The use of curse words in posts indicates frustration among some stakeholders, often related to software bugs, hardware defects, or poor customer service. Understanding these issues will help Apple implement targeted solutions."
   ]
  },
  {
   "cell_type": "markdown",
   "metadata": {},
   "source": []
  },
  {
   "cell_type": "markdown",
   "metadata": {},
   "source": [
    "## CLEANING DATA"
   ]
  },
  {
   "cell_type": "code",
   "execution_count": 1,
   "metadata": {},
   "outputs": [],
   "source": [
    "import pandas as pd\n",
    "import numpy as np\n",
    "import matplotlib.pyplot as plt\n",
    "import seaborn as sns\n",
    "import re\n",
    "import nltk\n",
    "from nltk.corpus import stopwords\n",
    "from nltk.tokenize import word_tokenize\n",
    "import string\n",
    "from nltk.stem import WordNetLemmatizer"
   ]
  },
  {
   "cell_type": "code",
   "execution_count": 2,
   "metadata": {},
   "outputs": [],
   "source": [
    "#Read the data \n",
    "df=pd.read_csv('Apple-Twitter-Sentiment-DFE.csv', encoding='latin1')"
   ]
  },
  {
   "cell_type": "code",
   "execution_count": 3,
   "metadata": {},
   "outputs": [
    {
     "data": {
      "text/plain": [
       "3               2162\n",
       "1               1219\n",
       "5                423\n",
       "not_relevant      82\n",
       "Name: sentiment, dtype: int64"
      ]
     },
     "execution_count": 3,
     "metadata": {},
     "output_type": "execute_result"
    }
   ],
   "source": [
    "df['sentiment'].value_counts(\n",
    ")"
   ]
  },
  {
   "cell_type": "code",
   "execution_count": 4,
   "metadata": {},
   "outputs": [
    {
     "name": "stdout",
     "output_type": "stream",
     "text": [
      "<class 'pandas.core.frame.DataFrame'>\n",
      "RangeIndex: 3886 entries, 0 to 3885\n",
      "Data columns (total 12 columns):\n",
      " #   Column                Non-Null Count  Dtype  \n",
      "---  ------                --------------  -----  \n",
      " 0   _unit_id              3886 non-null   int64  \n",
      " 1   _golden               3886 non-null   bool   \n",
      " 2   _unit_state           3886 non-null   object \n",
      " 3   _trusted_judgments    3886 non-null   int64  \n",
      " 4   _last_judgment_at     3783 non-null   object \n",
      " 5   sentiment             3886 non-null   object \n",
      " 6   sentiment:confidence  3886 non-null   float64\n",
      " 7   date                  3886 non-null   object \n",
      " 8   id                    3886 non-null   float64\n",
      " 9   query                 3886 non-null   object \n",
      " 10  sentiment_gold        103 non-null    object \n",
      " 11  text                  3886 non-null   object \n",
      "dtypes: bool(1), float64(2), int64(2), object(7)\n",
      "memory usage: 337.9+ KB\n"
     ]
    }
   ],
   "source": [
    "df.info()"
   ]
  },
  {
   "cell_type": "code",
   "execution_count": 5,
   "metadata": {},
   "outputs": [
    {
     "data": {
      "text/plain": [
       "_unit_id                   0\n",
       "_golden                    0\n",
       "_unit_state                0\n",
       "_trusted_judgments         0\n",
       "_last_judgment_at        103\n",
       "sentiment                  0\n",
       "sentiment:confidence       0\n",
       "date                       0\n",
       "id                         0\n",
       "query                      0\n",
       "sentiment_gold          3783\n",
       "text                       0\n",
       "dtype: int64"
      ]
     },
     "execution_count": 5,
     "metadata": {},
     "output_type": "execute_result"
    }
   ],
   "source": [
    "#check columns with missing vallues\n",
    "df.isna().sum()"
   ]
  },
  {
   "cell_type": "code",
   "execution_count": 6,
   "metadata": {},
   "outputs": [
    {
     "data": {
      "text/plain": [
       "False    3886\n",
       "dtype: int64"
      ]
     },
     "execution_count": 6,
     "metadata": {},
     "output_type": "execute_result"
    }
   ],
   "source": [
    "df.duplicated().value_counts()"
   ]
  },
  {
   "cell_type": "code",
   "execution_count": 7,
   "metadata": {},
   "outputs": [],
   "source": [
    "#drop columns with missing values\n",
    "df.drop(columns=['_last_judgment_at', 'sentiment_gold'],inplace=True)"
   ]
  },
  {
   "cell_type": "code",
   "execution_count": 8,
   "metadata": {},
   "outputs": [
    {
     "name": "stdout",
     "output_type": "stream",
     "text": [
      "<class 'pandas.core.frame.DataFrame'>\n",
      "RangeIndex: 3886 entries, 0 to 3885\n",
      "Data columns (total 10 columns):\n",
      " #   Column                Non-Null Count  Dtype  \n",
      "---  ------                --------------  -----  \n",
      " 0   _unit_id              3886 non-null   int64  \n",
      " 1   _golden               3886 non-null   bool   \n",
      " 2   _unit_state           3886 non-null   object \n",
      " 3   _trusted_judgments    3886 non-null   int64  \n",
      " 4   sentiment             3886 non-null   object \n",
      " 5   sentiment:confidence  3886 non-null   float64\n",
      " 6   date                  3886 non-null   object \n",
      " 7   id                    3886 non-null   float64\n",
      " 8   query                 3886 non-null   object \n",
      " 9   text                  3886 non-null   object \n",
      "dtypes: bool(1), float64(2), int64(2), object(5)\n",
      "memory usage: 277.2+ KB\n"
     ]
    }
   ],
   "source": [
    "df.info()"
   ]
  },
  {
   "cell_type": "code",
   "execution_count": 9,
   "metadata": {},
   "outputs": [],
   "source": [
    "# create a copy of the df\n",
    "df_clean=df.copy()"
   ]
  },
  {
   "cell_type": "markdown",
   "metadata": {},
   "source": [
    "Most of the columns in the dataset are unnecessary as the labels provided were generated by a separate model, hence inapplicable to the work we are doing."
   ]
  },
  {
   "cell_type": "code",
   "execution_count": 10,
   "metadata": {},
   "outputs": [],
   "source": [
    "#Drop unnecessary columns\n",
    "df_clean = df_clean[['text']]"
   ]
  },
  {
   "cell_type": "code",
   "execution_count": 11,
   "metadata": {},
   "outputs": [
    {
     "data": {
      "text/plain": [
       "False    3219\n",
       "True      667\n",
       "dtype: int64"
      ]
     },
     "execution_count": 11,
     "metadata": {},
     "output_type": "execute_result"
    }
   ],
   "source": [
    "# Checking for and removing duplicated tweets\n",
    "df_clean.duplicated().value_counts()"
   ]
  },
  {
   "cell_type": "code",
   "execution_count": 12,
   "metadata": {},
   "outputs": [],
   "source": [
    "df_clean.drop_duplicates(inplace=True)"
   ]
  },
  {
   "cell_type": "code",
   "execution_count": 13,
   "metadata": {},
   "outputs": [],
   "source": [
    "# The function below is used to clean the text, removing URLs, mentions, hashtags and other irrelevant pieces of text\n",
    "def clean_text(text):\n",
    "    if isinstance(text, str):\n",
    "        # Remove URLs\n",
    "        text = re.sub(r'http\\S+|www\\S+', '', text)\n",
    "        # Remove mentions\n",
    "        text = re.sub(r'@\\w+', '', text)\n",
    "        # Remove hashtags\n",
    "        text = re.sub(r'#\\w+', '', text)\n",
    "        # Remove RT (retweet) indicator\n",
    "        text = re.sub(r'^RT\\s+', '', text)\n",
    "        # Remove multiple spaces and strip\n",
    "        text = re.sub(r'\\s+', ' ', text)\n",
    "        text = text.strip()\n",
    "        text=text.lower()\n",
    "        text = text.translate(str.maketrans('', '', string.punctuation.replace('<', '').replace('>', '')))\n",
    "    return text"
   ]
  },
  {
   "cell_type": "code",
   "execution_count": 14,
   "metadata": {},
   "outputs": [],
   "source": [
    "# Apply cleaning to the 'text' column\n",
    "df_clean['text'] = df_clean['text'].apply(clean_text)"
   ]
  },
  {
   "cell_type": "code",
   "execution_count": 15,
   "metadata": {},
   "outputs": [
    {
     "name": "stdout",
     "output_type": "stream",
     "text": [
      "Before cleaning:\n",
      "0    #AAPL:The 10 best Steve Jobs emails ever...htt...\n",
      "1    RT @JPDesloges: Why AAPL Stock Had a Mini-Flas...\n",
      "2    My cat only chews @apple cords. Such an #Apple...\n",
      "3    I agree with @jimcramer that the #IndividualIn...\n",
      "4         Nobody expects the Spanish Inquisition #AAPL\n",
      "Name: text, dtype: object\n",
      "After cleaning:\n",
      "0                   the 10 best steve jobs emails ever\n",
      "1      why aapl stock had a miniflash crash today aapl\n",
      "2                     my cat only chews cords such an \n",
      "3    i agree with that the should own not trade  it...\n",
      "4               nobody expects the spanish inquisition\n",
      "Name: text, dtype: object\n"
     ]
    }
   ],
   "source": [
    "print(\"Before cleaning:\")\n",
    "print(df['text'].head())\n",
    "print(\"\\\n",
    "After cleaning:\")\n",
    "print(df_clean['text'].head())"
   ]
  },
  {
   "cell_type": "code",
   "execution_count": 16,
   "metadata": {},
   "outputs": [
    {
     "data": {
      "text/plain": [
       "False    3027\n",
       "True      192\n",
       "dtype: int64"
      ]
     },
     "execution_count": 16,
     "metadata": {},
     "output_type": "execute_result"
    }
   ],
   "source": [
    "# Upon cleaning the text duplicated tweets appear yet again\n",
    "df_clean.duplicated().value_counts()"
   ]
  },
  {
   "cell_type": "code",
   "execution_count": 17,
   "metadata": {},
   "outputs": [
    {
     "data": {
      "text/html": [
       "<div>\n",
       "<style scoped>\n",
       "    .dataframe tbody tr th:only-of-type {\n",
       "        vertical-align: middle;\n",
       "    }\n",
       "\n",
       "    .dataframe tbody tr th {\n",
       "        vertical-align: top;\n",
       "    }\n",
       "\n",
       "    .dataframe thead th {\n",
       "        text-align: right;\n",
       "    }\n",
       "</style>\n",
       "<table border=\"1\" class=\"dataframe\">\n",
       "  <thead>\n",
       "    <tr style=\"text-align: right;\">\n",
       "      <th></th>\n",
       "      <th>text</th>\n",
       "    </tr>\n",
       "  </thead>\n",
       "  <tbody>\n",
       "    <tr>\n",
       "      <th>36</th>\n",
       "      <td>apple inc flash crash what you need to know</td>\n",
       "    </tr>\n",
       "    <tr>\n",
       "      <th>237</th>\n",
       "      <td>apples pt raised by canaccord genuity to 13500...</td>\n",
       "    </tr>\n",
       "    <tr>\n",
       "      <th>293</th>\n",
       "      <td>apple  fibonacci technicals levels  intraday u...</td>\n",
       "    </tr>\n",
       "    <tr>\n",
       "      <th>309</th>\n",
       "      <td>apple  fibonacci technicals levels  intraday u...</td>\n",
       "    </tr>\n",
       "    <tr>\n",
       "      <th>326</th>\n",
       "      <td>apple  fibonacci technicals levels  intraday u...</td>\n",
       "    </tr>\n",
       "    <tr>\n",
       "      <th>...</th>\n",
       "      <td>...</td>\n",
       "    </tr>\n",
       "    <tr>\n",
       "      <th>3871</th>\n",
       "      <td>apple is warming up to social media apple is h...</td>\n",
       "    </tr>\n",
       "    <tr>\n",
       "      <th>3873</th>\n",
       "      <td>apple is warming up to social media apple is h...</td>\n",
       "    </tr>\n",
       "    <tr>\n",
       "      <th>3874</th>\n",
       "      <td>apple is warming up to social media apple is h...</td>\n",
       "    </tr>\n",
       "    <tr>\n",
       "      <th>3875</th>\n",
       "      <td>apple is warming up to social media apple is h...</td>\n",
       "    </tr>\n",
       "    <tr>\n",
       "      <th>3876</th>\n",
       "      <td>apple is warming up to social media apple is h...</td>\n",
       "    </tr>\n",
       "  </tbody>\n",
       "</table>\n",
       "<p>192 rows × 1 columns</p>\n",
       "</div>"
      ],
      "text/plain": [
       "                                                   text\n",
       "36          apple inc flash crash what you need to know\n",
       "237   apples pt raised by canaccord genuity to 13500...\n",
       "293   apple  fibonacci technicals levels  intraday u...\n",
       "309   apple  fibonacci technicals levels  intraday u...\n",
       "326   apple  fibonacci technicals levels  intraday u...\n",
       "...                                                 ...\n",
       "3871  apple is warming up to social media apple is h...\n",
       "3873  apple is warming up to social media apple is h...\n",
       "3874  apple is warming up to social media apple is h...\n",
       "3875  apple is warming up to social media apple is h...\n",
       "3876  apple is warming up to social media apple is h...\n",
       "\n",
       "[192 rows x 1 columns]"
      ]
     },
     "execution_count": 17,
     "metadata": {},
     "output_type": "execute_result"
    }
   ],
   "source": [
    "# These seem to be duplicated tweets that can be dropped as they do not represent a mass tweeting campaign.\n",
    "df_clean[df_clean.duplicated() == True]"
   ]
  },
  {
   "cell_type": "code",
   "execution_count": 18,
   "metadata": {},
   "outputs": [],
   "source": [
    "df_clean.drop_duplicates(inplace=True)"
   ]
  },
  {
   "cell_type": "code",
   "execution_count": 19,
   "metadata": {},
   "outputs": [
    {
     "ename": "ModuleNotFoundError",
     "evalue": "No module named 'wordcloud'",
     "output_type": "error",
     "traceback": [
      "\u001b[1;31m---------------------------------------------------------------------------\u001b[0m",
      "\u001b[1;31mModuleNotFoundError\u001b[0m                       Traceback (most recent call last)",
      "\u001b[1;32m<ipython-input-19-0118af6f4be3>\u001b[0m in \u001b[0;36m<module>\u001b[1;34m\u001b[0m\n\u001b[1;32m----> 1\u001b[1;33m \u001b[1;32mfrom\u001b[0m \u001b[0mwordcloud\u001b[0m \u001b[1;32mimport\u001b[0m \u001b[0mWordCloud\u001b[0m\u001b[1;33m\u001b[0m\u001b[1;33m\u001b[0m\u001b[0m\n\u001b[0m\u001b[0;32m      2\u001b[0m \u001b[1;31m# Generate Word Cloud\u001b[0m\u001b[1;33m\u001b[0m\u001b[1;33m\u001b[0m\u001b[1;33m\u001b[0m\u001b[0m\n\u001b[0;32m      3\u001b[0m \u001b[0mtext\u001b[0m \u001b[1;33m=\u001b[0m \u001b[1;34m' '\u001b[0m\u001b[1;33m.\u001b[0m\u001b[0mjoin\u001b[0m\u001b[1;33m(\u001b[0m\u001b[0mdf_clean\u001b[0m\u001b[1;33m[\u001b[0m\u001b[1;34m'text'\u001b[0m\u001b[1;33m]\u001b[0m\u001b[1;33m)\u001b[0m  \u001b[1;31m# Combine all text into a single string\u001b[0m\u001b[1;33m\u001b[0m\u001b[1;33m\u001b[0m\u001b[0m\n\u001b[0;32m      4\u001b[0m \u001b[0mwordcloud\u001b[0m \u001b[1;33m=\u001b[0m \u001b[0mWordCloud\u001b[0m\u001b[1;33m(\u001b[0m\u001b[0mwidth\u001b[0m\u001b[1;33m=\u001b[0m\u001b[1;36m800\u001b[0m\u001b[1;33m,\u001b[0m \u001b[0mheight\u001b[0m\u001b[1;33m=\u001b[0m\u001b[1;36m400\u001b[0m\u001b[1;33m,\u001b[0m \u001b[0mbackground_color\u001b[0m\u001b[1;33m=\u001b[0m\u001b[1;34m'white'\u001b[0m\u001b[1;33m)\u001b[0m\u001b[1;33m.\u001b[0m\u001b[0mgenerate\u001b[0m\u001b[1;33m(\u001b[0m\u001b[0mtext\u001b[0m\u001b[1;33m)\u001b[0m\u001b[1;33m\u001b[0m\u001b[1;33m\u001b[0m\u001b[0m\n\u001b[0;32m      5\u001b[0m \u001b[1;33m\u001b[0m\u001b[0m\n",
      "\u001b[1;31mModuleNotFoundError\u001b[0m: No module named 'wordcloud'"
     ]
    }
   ],
   "source": [
    "from wordcloud import WordCloud\n",
    "# Generate Word Cloud\n",
    "text = ' '.join(df_clean['text'])  # Combine all text into a single string\n",
    "wordcloud = WordCloud(width=800, height=400, background_color='white').generate(text)\n",
    "\n",
    "# Display the Word Cloud\n",
    "plt.figure(figsize=(10, 5))\n",
    "plt.imshow(wordcloud, interpolation='bilinear')\n",
    "plt.axis('off')  # Turn off axis\n",
    "plt.title('Word Cloud of Tweets')\n",
    "plt.show()"
   ]
  },
  {
   "cell_type": "markdown",
   "metadata": {},
   "source": [
    "This word cloud visually summarizes the most common words from tweets, offering insights into\n",
    "What people are talking about most frequently when discussing Apple,\n",
    "Themes or topics that are top-of-mind for users and \n",
    "Possible areas of focus for sentiment analysis or further investigation into user concerns and perceptions."
   ]
  },
  {
   "cell_type": "markdown",
   "metadata": {},
   "source": [
    "### Sentiment analysis\n",
    "Sentiment analysis is a natural language processing (NLP) technique used to determine the emotional tone behind a series of words. This document demonstrates how to perform sentiment analysis on a set of tweets using NLTK's `SentimentIntensityAnalyzer`."
   ]
  },
  {
   "cell_type": "code",
   "execution_count": 817,
   "metadata": {},
   "outputs": [
    {
     "name": "stderr",
     "output_type": "stream",
     "text": [
      "[nltk_data] Downloading package vader_lexicon to\n",
      "[nltk_data]     /Users/luwate/nltk_data...\n",
      "[nltk_data]   Package vader_lexicon is already up-to-date!\n"
     ]
    },
    {
     "data": {
      "text/html": [
       "<div>\n",
       "<style scoped>\n",
       "    .dataframe tbody tr th:only-of-type {\n",
       "        vertical-align: middle;\n",
       "    }\n",
       "\n",
       "    .dataframe tbody tr th {\n",
       "        vertical-align: top;\n",
       "    }\n",
       "\n",
       "    .dataframe thead th {\n",
       "        text-align: right;\n",
       "    }\n",
       "</style>\n",
       "<table border=\"1\" class=\"dataframe\">\n",
       "  <thead>\n",
       "    <tr style=\"text-align: right;\">\n",
       "      <th></th>\n",
       "      <th>text</th>\n",
       "      <th>nltk_sentiment</th>\n",
       "    </tr>\n",
       "  </thead>\n",
       "  <tbody>\n",
       "    <tr>\n",
       "      <th>0</th>\n",
       "      <td>the 10 best steve jobs emails ever</td>\n",
       "      <td>0.6369</td>\n",
       "    </tr>\n",
       "    <tr>\n",
       "      <th>1</th>\n",
       "      <td>why aapl stock had a miniflash crash today aapl</td>\n",
       "      <td>-0.4019</td>\n",
       "    </tr>\n",
       "    <tr>\n",
       "      <th>2</th>\n",
       "      <td>my cat only chews cords such an</td>\n",
       "      <td>0.0000</td>\n",
       "    </tr>\n",
       "    <tr>\n",
       "      <th>3</th>\n",
       "      <td>i agree with that the should own not trade  it...</td>\n",
       "      <td>0.6597</td>\n",
       "    </tr>\n",
       "    <tr>\n",
       "      <th>4</th>\n",
       "      <td>nobody expects the spanish inquisition</td>\n",
       "      <td>-0.2960</td>\n",
       "    </tr>\n",
       "    <tr>\n",
       "      <th>...</th>\n",
       "      <td>...</td>\n",
       "      <td>...</td>\n",
       "    </tr>\n",
       "    <tr>\n",
       "      <th>3880</th>\n",
       "      <td>hey is it normal for my laptop charger to be s...</td>\n",
       "      <td>0.4404</td>\n",
       "    </tr>\n",
       "    <tr>\n",
       "      <th>3881</th>\n",
       "      <td>via fc apple is warming up to social media  ap...</td>\n",
       "      <td>0.1531</td>\n",
       "    </tr>\n",
       "    <tr>\n",
       "      <th>3882</th>\n",
       "      <td>there is no avocado emoji may i ask why</td>\n",
       "      <td>-0.2960</td>\n",
       "    </tr>\n",
       "    <tr>\n",
       "      <th>3883</th>\n",
       "      <td>i could not agree more between and only great ...</td>\n",
       "      <td>0.4570</td>\n",
       "    </tr>\n",
       "    <tr>\n",
       "      <th>3884</th>\n",
       "      <td>my iphone 5s photos are no longer downloading ...</td>\n",
       "      <td>0.1280</td>\n",
       "    </tr>\n",
       "  </tbody>\n",
       "</table>\n",
       "<p>3027 rows × 2 columns</p>\n",
       "</div>"
      ],
      "text/plain": [
       "                                                   text  nltk_sentiment\n",
       "0                    the 10 best steve jobs emails ever          0.6369\n",
       "1       why aapl stock had a miniflash crash today aapl         -0.4019\n",
       "2                      my cat only chews cords such an           0.0000\n",
       "3     i agree with that the should own not trade  it...          0.6597\n",
       "4                nobody expects the spanish inquisition         -0.2960\n",
       "...                                                 ...             ...\n",
       "3880  hey is it normal for my laptop charger to be s...          0.4404\n",
       "3881  via fc apple is warming up to social media  ap...          0.1531\n",
       "3882            there is no avocado emoji may i ask why         -0.2960\n",
       "3883  i could not agree more between and only great ...          0.4570\n",
       "3884  my iphone 5s photos are no longer downloading ...          0.1280\n",
       "\n",
       "[3027 rows x 2 columns]"
      ]
     },
     "execution_count": 817,
     "metadata": {},
     "output_type": "execute_result"
    }
   ],
   "source": [
    "import pandas as pd\n",
    "from nltk.sentiment import SentimentIntensityAnalyzer\n",
    "import nltk\n",
    "\n",
    "# Download the VADER lexicon for NLTK\n",
    "nltk.download('vader_lexicon')\n",
    "\n",
    "\n",
    "# Initializing SentimentIntensityAnalyzer\n",
    "sia = SentimentIntensityAnalyzer()\n",
    "\n",
    "# Function to compute sentiment using NLTK's SentimentIntensityAnalyzer\n",
    "def get_nltk_sentiment(tweet):\n",
    "    score = sia.polarity_scores(tweet)\n",
    "    return score['compound']  # Returns a value between -1 and 1 (-1 being negative and 1 being)\n",
    "\n",
    "# Apply the function to the df_clean\n",
    "df_clean['nltk_sentiment'] = df_clean['text'].apply(get_nltk_sentiment)\n",
    "\n",
    "# Display the DataFrame with sentiment scores\n",
    "df_clean\n"
   ]
  },
  {
   "cell_type": "markdown",
   "metadata": {},
   "source": [
    "### Histogram combined with a kernel density estimate (KDE) plot & Bar chart"
   ]
  },
  {
   "cell_type": "code",
   "execution_count": 818,
   "metadata": {},
   "outputs": [
    {
     "data": {
      "image/png": "[encoded data removed]",
      "text/plain": [
       "<Figure size 1000x600 with 1 Axes>"
      ]
     },
     "metadata": {},
     "output_type": "display_data"
    },
    {
     "name": "stderr",
     "output_type": "stream",
     "text": [
      "/var/folders/sh/s_xv2d8x6kv1_qyc9qgmkv300000gn/T/ipykernel_76174/2691307813.py:31: FutureWarning: \n",
      "\n",
      "Passing `palette` without assigning `hue` is deprecated and will be removed in v0.14.0. Assign the `x` variable to `hue` and set `legend=False` for the same effect.\n",
      "\n",
      "  sns.barplot(x=sentiment_counts.index, y=sentiment_counts.values, palette='viridis')\n"
     ]
    },
    {
     "data": {
      "image/png": "[encoded data removed]",
      "text/plain": [
       "<Figure size 800x500 with 1 Axes>"
      ]
     },
     "metadata": {},
     "output_type": "display_data"
    }
   ],
   "source": [
    "\n",
    "# Visualization\n",
    "\n",
    "# Set the style of seaborn\n",
    "sns.set(style=\"whitegrid\")\n",
    "\n",
    "# Histogram of sentiment scores\n",
    "plt.figure(figsize=(10, 6))\n",
    "sns.histplot(df_clean['nltk_sentiment'], bins=20, kde=True, color='blue')\n",
    "plt.title('Distribution of Sentiment Scores')\n",
    "plt.xlabel('Sentiment Score')\n",
    "plt.ylabel('Frequency')\n",
    "plt.axvline(0, color='red', linestyle='--')  # Line for neutral sentiment\n",
    "plt.show()\n",
    "\n",
    "# Categorizing sentiment scores\n",
    "def categorize_sentiment(score):\n",
    "    if score > 0.05:\n",
    "        return 'Positive'\n",
    "    elif score < -0.05:\n",
    "        return 'Negative'\n",
    "    else:\n",
    "        return 'Neutral'\n",
    "\n",
    "df_clean['sentiment_category'] = df_clean['nltk_sentiment'].apply(categorize_sentiment)\n",
    "\n",
    "# Count the number of occurrences of each sentiment category\n",
    "sentiment_counts = df_clean['sentiment_category'].value_counts()\n",
    "\n",
    "# Bar chart for sentiment categories\n",
    "plt.figure(figsize=(8, 5))\n",
    "sns.barplot(x=sentiment_counts.index, y=sentiment_counts.values, palette='viridis')\n",
    "plt.title('Sentiment Categories')\n",
    "plt.xlabel('Sentiment Category')\n",
    "plt.ylabel('Count')\n",
    "plt.show()"
   ]
  },
  {
   "cell_type": "markdown",
   "metadata": {},
   "source": [
    "The histogram shows us the distribution of the sentiment of tweets. The sentiment generally leans positive and this is supported by the bar chart which shows positive sentiment having more tweets than negative."
   ]
  },
  {
   "cell_type": "markdown",
   "metadata": {},
   "source": [
    "However in the histogram, there is a noticeable spike in texts classified with a score of between 0.3 and 0.45. Inspecting a sample of scores in this range reveals that there has been some mis-calssification of text, which may skew the results."
   ]
  },
  {
   "cell_type": "markdown",
   "metadata": {},
   "source": []
  },
  {
   "cell_type": "markdown",
   "metadata": {},
   "source": [
    "In order to attempt to combat this, we can attempt to make use of a different approach; specifically including TextBlob in the analysis process and a K-Means model, with 3 clusters (positive, negative and neutral)"
   ]
  },
  {
   "cell_type": "code",
   "execution_count": 819,
   "metadata": {},
   "outputs": [
    {
     "data": {
      "text/html": [
       "<div>\n",
       "<style scoped>\n",
       "    .dataframe tbody tr th:only-of-type {\n",
       "        vertical-align: middle;\n",
       "    }\n",
       "\n",
       "    .dataframe tbody tr th {\n",
       "        vertical-align: top;\n",
       "    }\n",
       "\n",
       "    .dataframe thead th {\n",
       "        text-align: right;\n",
       "    }\n",
       "</style>\n",
       "<table border=\"1\" class=\"dataframe\">\n",
       "  <thead>\n",
       "    <tr style=\"text-align: right;\">\n",
       "      <th></th>\n",
       "      <th>text</th>\n",
       "      <th>nltk_sentiment</th>\n",
       "      <th>sentiment_category</th>\n",
       "    </tr>\n",
       "  </thead>\n",
       "  <tbody>\n",
       "    <tr>\n",
       "      <th>3023</th>\n",
       "      <td>purchase a 99 tv 99 value simply by watching a...</td>\n",
       "      <td>0.3400</td>\n",
       "      <td>Positive</td>\n",
       "    </tr>\n",
       "    <tr>\n",
       "      <th>3672</th>\n",
       "      <td>aapl as expected some users still like small s...</td>\n",
       "      <td>0.3612</td>\n",
       "      <td>Positive</td>\n",
       "    </tr>\n",
       "    <tr>\n",
       "      <th>1071</th>\n",
       "      <td>jmp raises apple inc price target to 150 on ex...</td>\n",
       "      <td>0.4243</td>\n",
       "      <td>Positive</td>\n",
       "    </tr>\n",
       "    <tr>\n",
       "      <th>3777</th>\n",
       "      <td>jeff daniels in talks to play former apple ceo...</td>\n",
       "      <td>0.3400</td>\n",
       "      <td>Positive</td>\n",
       "    </tr>\n",
       "    <tr>\n",
       "      <th>3541</th>\n",
       "      <td>i need new emojis  preferably some brown peop...</td>\n",
       "      <td>0.3612</td>\n",
       "      <td>Positive</td>\n",
       "    </tr>\n",
       "    <tr>\n",
       "      <th>3664</th>\n",
       "      <td>have been brave and taken out an cfd as the dr...</td>\n",
       "      <td>0.3182</td>\n",
       "      <td>Positive</td>\n",
       "    </tr>\n",
       "    <tr>\n",
       "      <th>122</th>\n",
       "      <td>thank you</td>\n",
       "      <td>0.3612</td>\n",
       "      <td>Positive</td>\n",
       "    </tr>\n",
       "    <tr>\n",
       "      <th>2945</th>\n",
       "      <td>dan nathan how to profit from apple stock aapl</td>\n",
       "      <td>0.4404</td>\n",
       "      <td>Positive</td>\n",
       "    </tr>\n",
       "    <tr>\n",
       "      <th>760</th>\n",
       "      <td>you used the same logic to explain earnings du...</td>\n",
       "      <td>0.3612</td>\n",
       "      <td>Positive</td>\n",
       "    </tr>\n",
       "    <tr>\n",
       "      <th>1330</th>\n",
       "      <td>wouldnt be a bad idea to bring back the tap to...</td>\n",
       "      <td>0.4310</td>\n",
       "      <td>Positive</td>\n",
       "    </tr>\n",
       "    <tr>\n",
       "      <th>3186</th>\n",
       "      <td>heres why apple shares will reach 135 analyst</td>\n",
       "      <td>0.3182</td>\n",
       "      <td>Positive</td>\n",
       "    </tr>\n",
       "    <tr>\n",
       "      <th>413</th>\n",
       "      <td>bloombergtv testimony to play key role in trial</td>\n",
       "      <td>0.3400</td>\n",
       "      <td>Positive</td>\n",
       "    </tr>\n",
       "    <tr>\n",
       "      <th>2886</th>\n",
       "      <td>planning to strengthen presence with 500 store...</td>\n",
       "      <td>0.3182</td>\n",
       "      <td>Positive</td>\n",
       "    </tr>\n",
       "    <tr>\n",
       "      <th>1587</th>\n",
       "      <td>apple in full support of naming alabama antidi...</td>\n",
       "      <td>0.4019</td>\n",
       "      <td>Positive</td>\n",
       "    </tr>\n",
       "    <tr>\n",
       "      <th>302</th>\n",
       "      <td>elgato launches thunderbolt 2 dock with 4k res...</td>\n",
       "      <td>0.4019</td>\n",
       "      <td>Positive</td>\n",
       "    </tr>\n",
       "  </tbody>\n",
       "</table>\n",
       "</div>"
      ],
      "text/plain": [
       "                                                   text  nltk_sentiment  \\\n",
       "3023  purchase a 99 tv 99 value simply by watching a...          0.3400   \n",
       "3672  aapl as expected some users still like small s...          0.3612   \n",
       "1071  jmp raises apple inc price target to 150 on ex...          0.4243   \n",
       "3777  jeff daniels in talks to play former apple ceo...          0.3400   \n",
       "3541   i need new emojis  preferably some brown peop...          0.3612   \n",
       "3664  have been brave and taken out an cfd as the dr...          0.3182   \n",
       "122                                           thank you          0.3612   \n",
       "2945     dan nathan how to profit from apple stock aapl          0.4404   \n",
       "760   you used the same logic to explain earnings du...          0.3612   \n",
       "1330  wouldnt be a bad idea to bring back the tap to...          0.4310   \n",
       "3186      heres why apple shares will reach 135 analyst          0.3182   \n",
       "413     bloombergtv testimony to play key role in trial          0.3400   \n",
       "2886  planning to strengthen presence with 500 store...          0.3182   \n",
       "1587  apple in full support of naming alabama antidi...          0.4019   \n",
       "302   elgato launches thunderbolt 2 dock with 4k res...          0.4019   \n",
       "\n",
       "     sentiment_category  \n",
       "3023           Positive  \n",
       "3672           Positive  \n",
       "1071           Positive  \n",
       "3777           Positive  \n",
       "3541           Positive  \n",
       "3664           Positive  \n",
       "122            Positive  \n",
       "2945           Positive  \n",
       "760            Positive  \n",
       "1330           Positive  \n",
       "3186           Positive  \n",
       "413            Positive  \n",
       "2886           Positive  \n",
       "1587           Positive  \n",
       "302            Positive  "
      ]
     },
     "execution_count": 819,
     "metadata": {},
     "output_type": "execute_result"
    }
   ],
   "source": [
    "df_clean[(df_clean['nltk_sentiment']>0.3) & (df_clean['nltk_sentiment']<0.45)].sample(15)"
   ]
  },
  {
   "cell_type": "code",
   "execution_count": 820,
   "metadata": {},
   "outputs": [],
   "source": [
    "from textblob import TextBlob\n",
    "def get_sentiment(text):\n",
    "    blob = TextBlob(text)\n",
    "    return blob.sentiment.polarity\n",
    "\n",
    "# Apply to the 'text' column\n",
    "df_clean['blob_sentiment'] = df_clean['text'].apply(get_sentiment)"
   ]
  },
  {
   "cell_type": "code",
   "execution_count": 821,
   "metadata": {},
   "outputs": [
    {
     "data": {
      "text/html": [
       "<div>\n",
       "<style scoped>\n",
       "    .dataframe tbody tr th:only-of-type {\n",
       "        vertical-align: middle;\n",
       "    }\n",
       "\n",
       "    .dataframe tbody tr th {\n",
       "        vertical-align: top;\n",
       "    }\n",
       "\n",
       "    .dataframe thead th {\n",
       "        text-align: right;\n",
       "    }\n",
       "</style>\n",
       "<table border=\"1\" class=\"dataframe\">\n",
       "  <thead>\n",
       "    <tr style=\"text-align: right;\">\n",
       "      <th></th>\n",
       "      <th>text</th>\n",
       "      <th>nltk_sentiment</th>\n",
       "      <th>sentiment_category</th>\n",
       "      <th>blob_sentiment</th>\n",
       "    </tr>\n",
       "  </thead>\n",
       "  <tbody>\n",
       "    <tr>\n",
       "      <th>0</th>\n",
       "      <td>the 10 best steve jobs emails ever</td>\n",
       "      <td>0.6369</td>\n",
       "      <td>Positive</td>\n",
       "      <td>1.000000</td>\n",
       "    </tr>\n",
       "    <tr>\n",
       "      <th>1</th>\n",
       "      <td>why aapl stock had a miniflash crash today aapl</td>\n",
       "      <td>-0.4019</td>\n",
       "      <td>Negative</td>\n",
       "      <td>0.000000</td>\n",
       "    </tr>\n",
       "    <tr>\n",
       "      <th>2</th>\n",
       "      <td>my cat only chews cords such an</td>\n",
       "      <td>0.0000</td>\n",
       "      <td>Neutral</td>\n",
       "      <td>0.000000</td>\n",
       "    </tr>\n",
       "    <tr>\n",
       "      <th>3</th>\n",
       "      <td>i agree with that the should own not trade  it...</td>\n",
       "      <td>0.6597</td>\n",
       "      <td>Positive</td>\n",
       "      <td>0.650000</td>\n",
       "    </tr>\n",
       "    <tr>\n",
       "      <th>4</th>\n",
       "      <td>nobody expects the spanish inquisition</td>\n",
       "      <td>-0.2960</td>\n",
       "      <td>Negative</td>\n",
       "      <td>0.000000</td>\n",
       "    </tr>\n",
       "    <tr>\n",
       "      <th>...</th>\n",
       "      <td>...</td>\n",
       "      <td>...</td>\n",
       "      <td>...</td>\n",
       "      <td>...</td>\n",
       "    </tr>\n",
       "    <tr>\n",
       "      <th>3880</th>\n",
       "      <td>hey is it normal for my laptop charger to be s...</td>\n",
       "      <td>0.4404</td>\n",
       "      <td>Positive</td>\n",
       "      <td>0.175000</td>\n",
       "    </tr>\n",
       "    <tr>\n",
       "      <th>3881</th>\n",
       "      <td>via fc apple is warming up to social media  ap...</td>\n",
       "      <td>0.1531</td>\n",
       "      <td>Positive</td>\n",
       "      <td>0.022222</td>\n",
       "    </tr>\n",
       "    <tr>\n",
       "      <th>3882</th>\n",
       "      <td>there is no avocado emoji may i ask why</td>\n",
       "      <td>-0.2960</td>\n",
       "      <td>Negative</td>\n",
       "      <td>0.000000</td>\n",
       "    </tr>\n",
       "    <tr>\n",
       "      <th>3883</th>\n",
       "      <td>i could not agree more between and only great ...</td>\n",
       "      <td>0.4570</td>\n",
       "      <td>Positive</td>\n",
       "      <td>0.433333</td>\n",
       "    </tr>\n",
       "    <tr>\n",
       "      <th>3884</th>\n",
       "      <td>my iphone 5s photos are no longer downloading ...</td>\n",
       "      <td>0.1280</td>\n",
       "      <td>Positive</td>\n",
       "      <td>0.000000</td>\n",
       "    </tr>\n",
       "  </tbody>\n",
       "</table>\n",
       "<p>3027 rows × 4 columns</p>\n",
       "</div>"
      ],
      "text/plain": [
       "                                                   text  nltk_sentiment  \\\n",
       "0                    the 10 best steve jobs emails ever          0.6369   \n",
       "1       why aapl stock had a miniflash crash today aapl         -0.4019   \n",
       "2                      my cat only chews cords such an           0.0000   \n",
       "3     i agree with that the should own not trade  it...          0.6597   \n",
       "4                nobody expects the spanish inquisition         -0.2960   \n",
       "...                                                 ...             ...   \n",
       "3880  hey is it normal for my laptop charger to be s...          0.4404   \n",
       "3881  via fc apple is warming up to social media  ap...          0.1531   \n",
       "3882            there is no avocado emoji may i ask why         -0.2960   \n",
       "3883  i could not agree more between and only great ...          0.4570   \n",
       "3884  my iphone 5s photos are no longer downloading ...          0.1280   \n",
       "\n",
       "     sentiment_category  blob_sentiment  \n",
       "0              Positive        1.000000  \n",
       "1              Negative        0.000000  \n",
       "2               Neutral        0.000000  \n",
       "3              Positive        0.650000  \n",
       "4              Negative        0.000000  \n",
       "...                 ...             ...  \n",
       "3880           Positive        0.175000  \n",
       "3881           Positive        0.022222  \n",
       "3882           Negative        0.000000  \n",
       "3883           Positive        0.433333  \n",
       "3884           Positive        0.000000  \n",
       "\n",
       "[3027 rows x 4 columns]"
      ]
     },
     "execution_count": 821,
     "metadata": {},
     "output_type": "execute_result"
    }
   ],
   "source": [
    "df_clean"
   ]
  },
  {
   "cell_type": "code",
   "execution_count": 822,
   "metadata": {},
   "outputs": [],
   "source": [
    "df_clean['average_sentiment'] = (df_clean['nltk_sentiment'] + df_clean['blob_sentiment']) / 2"
   ]
  },
  {
   "cell_type": "code",
   "execution_count": 823,
   "metadata": {},
   "outputs": [
    {
     "data": {
      "text/html": [
       "<div>\n",
       "<style scoped>\n",
       "    .dataframe tbody tr th:only-of-type {\n",
       "        vertical-align: middle;\n",
       "    }\n",
       "\n",
       "    .dataframe tbody tr th {\n",
       "        vertical-align: top;\n",
       "    }\n",
       "\n",
       "    .dataframe thead th {\n",
       "        text-align: right;\n",
       "    }\n",
       "</style>\n",
       "<table border=\"1\" class=\"dataframe\">\n",
       "  <thead>\n",
       "    <tr style=\"text-align: right;\">\n",
       "      <th></th>\n",
       "      <th>text</th>\n",
       "      <th>nltk_sentiment</th>\n",
       "      <th>sentiment_category</th>\n",
       "      <th>blob_sentiment</th>\n",
       "      <th>average_sentiment</th>\n",
       "    </tr>\n",
       "  </thead>\n",
       "  <tbody>\n",
       "    <tr>\n",
       "      <th>0</th>\n",
       "      <td>the 10 best steve jobs emails ever</td>\n",
       "      <td>0.6369</td>\n",
       "      <td>Positive</td>\n",
       "      <td>1.000000</td>\n",
       "      <td>0.818450</td>\n",
       "    </tr>\n",
       "    <tr>\n",
       "      <th>1</th>\n",
       "      <td>why aapl stock had a miniflash crash today aapl</td>\n",
       "      <td>-0.4019</td>\n",
       "      <td>Negative</td>\n",
       "      <td>0.000000</td>\n",
       "      <td>-0.200950</td>\n",
       "    </tr>\n",
       "    <tr>\n",
       "      <th>2</th>\n",
       "      <td>my cat only chews cords such an</td>\n",
       "      <td>0.0000</td>\n",
       "      <td>Neutral</td>\n",
       "      <td>0.000000</td>\n",
       "      <td>0.000000</td>\n",
       "    </tr>\n",
       "    <tr>\n",
       "      <th>3</th>\n",
       "      <td>i agree with that the should own not trade  it...</td>\n",
       "      <td>0.6597</td>\n",
       "      <td>Positive</td>\n",
       "      <td>0.650000</td>\n",
       "      <td>0.654850</td>\n",
       "    </tr>\n",
       "    <tr>\n",
       "      <th>4</th>\n",
       "      <td>nobody expects the spanish inquisition</td>\n",
       "      <td>-0.2960</td>\n",
       "      <td>Negative</td>\n",
       "      <td>0.000000</td>\n",
       "      <td>-0.148000</td>\n",
       "    </tr>\n",
       "    <tr>\n",
       "      <th>...</th>\n",
       "      <td>...</td>\n",
       "      <td>...</td>\n",
       "      <td>...</td>\n",
       "      <td>...</td>\n",
       "      <td>...</td>\n",
       "    </tr>\n",
       "    <tr>\n",
       "      <th>3880</th>\n",
       "      <td>hey is it normal for my laptop charger to be s...</td>\n",
       "      <td>0.4404</td>\n",
       "      <td>Positive</td>\n",
       "      <td>0.175000</td>\n",
       "      <td>0.307700</td>\n",
       "    </tr>\n",
       "    <tr>\n",
       "      <th>3881</th>\n",
       "      <td>via fc apple is warming up to social media  ap...</td>\n",
       "      <td>0.1531</td>\n",
       "      <td>Positive</td>\n",
       "      <td>0.022222</td>\n",
       "      <td>0.087661</td>\n",
       "    </tr>\n",
       "    <tr>\n",
       "      <th>3882</th>\n",
       "      <td>there is no avocado emoji may i ask why</td>\n",
       "      <td>-0.2960</td>\n",
       "      <td>Negative</td>\n",
       "      <td>0.000000</td>\n",
       "      <td>-0.148000</td>\n",
       "    </tr>\n",
       "    <tr>\n",
       "      <th>3883</th>\n",
       "      <td>i could not agree more between and only great ...</td>\n",
       "      <td>0.4570</td>\n",
       "      <td>Positive</td>\n",
       "      <td>0.433333</td>\n",
       "      <td>0.445167</td>\n",
       "    </tr>\n",
       "    <tr>\n",
       "      <th>3884</th>\n",
       "      <td>my iphone 5s photos are no longer downloading ...</td>\n",
       "      <td>0.1280</td>\n",
       "      <td>Positive</td>\n",
       "      <td>0.000000</td>\n",
       "      <td>0.064000</td>\n",
       "    </tr>\n",
       "  </tbody>\n",
       "</table>\n",
       "<p>3027 rows × 5 columns</p>\n",
       "</div>"
      ],
      "text/plain": [
       "                                                   text  nltk_sentiment  \\\n",
       "0                    the 10 best steve jobs emails ever          0.6369   \n",
       "1       why aapl stock had a miniflash crash today aapl         -0.4019   \n",
       "2                      my cat only chews cords such an           0.0000   \n",
       "3     i agree with that the should own not trade  it...          0.6597   \n",
       "4                nobody expects the spanish inquisition         -0.2960   \n",
       "...                                                 ...             ...   \n",
       "3880  hey is it normal for my laptop charger to be s...          0.4404   \n",
       "3881  via fc apple is warming up to social media  ap...          0.1531   \n",
       "3882            there is no avocado emoji may i ask why         -0.2960   \n",
       "3883  i could not agree more between and only great ...          0.4570   \n",
       "3884  my iphone 5s photos are no longer downloading ...          0.1280   \n",
       "\n",
       "     sentiment_category  blob_sentiment  average_sentiment  \n",
       "0              Positive        1.000000           0.818450  \n",
       "1              Negative        0.000000          -0.200950  \n",
       "2               Neutral        0.000000           0.000000  \n",
       "3              Positive        0.650000           0.654850  \n",
       "4              Negative        0.000000          -0.148000  \n",
       "...                 ...             ...                ...  \n",
       "3880           Positive        0.175000           0.307700  \n",
       "3881           Positive        0.022222           0.087661  \n",
       "3882           Negative        0.000000          -0.148000  \n",
       "3883           Positive        0.433333           0.445167  \n",
       "3884           Positive        0.000000           0.064000  \n",
       "\n",
       "[3027 rows x 5 columns]"
      ]
     },
     "execution_count": 823,
     "metadata": {},
     "output_type": "execute_result"
    }
   ],
   "source": [
    "df_clean"
   ]
  },
  {
   "cell_type": "code",
   "execution_count": 824,
   "metadata": {},
   "outputs": [
    {
     "data": {
      "image/png": "[encoded data removed]",
      "text/plain": [
       "<Figure size 1000x600 with 1 Axes>"
      ]
     },
     "metadata": {},
     "output_type": "display_data"
    },
    {
     "name": "stderr",
     "output_type": "stream",
     "text": [
      "/var/folders/sh/s_xv2d8x6kv1_qyc9qgmkv300000gn/T/ipykernel_76174/1892704462.py:31: FutureWarning: \n",
      "\n",
      "Passing `palette` without assigning `hue` is deprecated and will be removed in v0.14.0. Assign the `x` variable to `hue` and set `legend=False` for the same effect.\n",
      "\n",
      "  sns.barplot(x=sentiment_counts.index, y=sentiment_counts.values, palette='viridis')\n"
     ]
    },
    {
     "data": {
      "image/png": "[encoded data removed]",
      "text/plain": [
       "<Figure size 800x500 with 1 Axes>"
      ]
     },
     "metadata": {},
     "output_type": "display_data"
    }
   ],
   "source": [
    "\n",
    "# Visualization\n",
    "\n",
    "# Set the style of seaborn\n",
    "sns.set(style=\"whitegrid\")\n",
    "\n",
    "# Histogram of sentiment scores\n",
    "plt.figure(figsize=(10, 6))\n",
    "sns.histplot(df_clean['average_sentiment'], bins=20, kde=True, color='blue')\n",
    "plt.title('Distribution of Sentiment Scores')\n",
    "plt.xlabel('Sentiment Score')\n",
    "plt.ylabel('Frequency')\n",
    "plt.axvline(0, color='red', linestyle='--')  # Line for neutral sentiment\n",
    "plt.show()\n",
    "\n",
    "# Categorizing sentiment scores\n",
    "def categorize_sentiment(score):\n",
    "    if score > 0.05:\n",
    "        return 'Positive'\n",
    "    elif score < -0.05:\n",
    "        return 'Negative'\n",
    "    else:\n",
    "        return 'Neutral'\n",
    "\n",
    "df_clean['sentiment_category'] = df_clean['average_sentiment'].apply(categorize_sentiment)\n",
    "\n",
    "# Count the number of occurrences of each sentiment category\n",
    "sentiment_counts = df_clean['sentiment_category'].value_counts()\n",
    "\n",
    "# Bar chart for sentiment categories\n",
    "plt.figure(figsize=(8, 5))\n",
    "sns.barplot(x=sentiment_counts.index, y=sentiment_counts.values, palette='viridis')\n",
    "plt.title('Sentiment Categories')\n",
    "plt.xlabel('Sentiment Category')\n",
    "plt.ylabel('Count')\n",
    "plt.show()"
   ]
  },
  {
   "cell_type": "markdown",
   "metadata": {},
   "source": [
    "The combination of TextBlob and VADER seems to change the results significantly with a much bigger proportion of tweets beong interpretd as positive."
   ]
  },
  {
   "cell_type": "markdown",
   "metadata": {},
   "source": [
    "Below a sample of the Positive tweets is taken and the different scores are evaluated. "
   ]
  },
  {
   "cell_type": "code",
   "execution_count": 825,
   "metadata": {},
   "outputs": [
    {
     "data": {
      "text/html": [
       "<div>\n",
       "<style scoped>\n",
       "    .dataframe tbody tr th:only-of-type {\n",
       "        vertical-align: middle;\n",
       "    }\n",
       "\n",
       "    .dataframe tbody tr th {\n",
       "        vertical-align: top;\n",
       "    }\n",
       "\n",
       "    .dataframe thead th {\n",
       "        text-align: right;\n",
       "    }\n",
       "</style>\n",
       "<table border=\"1\" class=\"dataframe\">\n",
       "  <thead>\n",
       "    <tr style=\"text-align: right;\">\n",
       "      <th></th>\n",
       "      <th>text</th>\n",
       "      <th>nltk_sentiment</th>\n",
       "      <th>sentiment_category</th>\n",
       "      <th>blob_sentiment</th>\n",
       "      <th>average_sentiment</th>\n",
       "    </tr>\n",
       "  </thead>\n",
       "  <tbody>\n",
       "    <tr>\n",
       "      <th>1289</th>\n",
       "      <td>aapl iphone 6 manufacturing costs show huge pr...</td>\n",
       "      <td>0.6369</td>\n",
       "      <td>Positive</td>\n",
       "      <td>0.200000</td>\n",
       "      <td>0.418450</td>\n",
       "    </tr>\n",
       "    <tr>\n",
       "      <th>3630</th>\n",
       "      <td>attention  your free ipads would go faster if ...</td>\n",
       "      <td>0.3887</td>\n",
       "      <td>Positive</td>\n",
       "      <td>0.300000</td>\n",
       "      <td>0.344350</td>\n",
       "    </tr>\n",
       "    <tr>\n",
       "      <th>1722</th>\n",
       "      <td>claims  planning new 4  4</td>\n",
       "      <td>0.0000</td>\n",
       "      <td>Positive</td>\n",
       "      <td>0.136364</td>\n",
       "      <td>0.068182</td>\n",
       "    </tr>\n",
       "    <tr>\n",
       "      <th>2060</th>\n",
       "      <td>new 4inch iphone 6 reported 5 reasons apple mu...</td>\n",
       "      <td>0.0000</td>\n",
       "      <td>Positive</td>\n",
       "      <td>0.136364</td>\n",
       "      <td>0.068182</td>\n",
       "    </tr>\n",
       "    <tr>\n",
       "      <th>2369</th>\n",
       "      <td>you know what  stores have had these locks wee...</td>\n",
       "      <td>0.0000</td>\n",
       "      <td>Positive</td>\n",
       "      <td>0.500000</td>\n",
       "      <td>0.250000</td>\n",
       "    </tr>\n",
       "    <tr>\n",
       "      <th>3077</th>\n",
       "      <td>mastercard teams up with gwen stefani to promo...</td>\n",
       "      <td>0.4767</td>\n",
       "      <td>Positive</td>\n",
       "      <td>1.000000</td>\n",
       "      <td>0.738350</td>\n",
       "    </tr>\n",
       "    <tr>\n",
       "      <th>1828</th>\n",
       "      <td>steve wozniak calls s legendary garage a bit o...</td>\n",
       "      <td>0.0000</td>\n",
       "      <td>Positive</td>\n",
       "      <td>1.000000</td>\n",
       "      <td>0.500000</td>\n",
       "    </tr>\n",
       "    <tr>\n",
       "      <th>128</th>\n",
       "      <td>lol dying</td>\n",
       "      <td>0.4215</td>\n",
       "      <td>Positive</td>\n",
       "      <td>0.800000</td>\n",
       "      <td>0.610750</td>\n",
       "    </tr>\n",
       "    <tr>\n",
       "      <th>1734</th>\n",
       "      <td>vs video which dashboard interface is the best...</td>\n",
       "      <td>0.6369</td>\n",
       "      <td>Positive</td>\n",
       "      <td>1.000000</td>\n",
       "      <td>0.818450</td>\n",
       "    </tr>\n",
       "    <tr>\n",
       "      <th>787</th>\n",
       "      <td>but it wont fix the problem for good could bac...</td>\n",
       "      <td>0.7742</td>\n",
       "      <td>Positive</td>\n",
       "      <td>0.350000</td>\n",
       "      <td>0.562100</td>\n",
       "    </tr>\n",
       "  </tbody>\n",
       "</table>\n",
       "</div>"
      ],
      "text/plain": [
       "                                                   text  nltk_sentiment  \\\n",
       "1289  aapl iphone 6 manufacturing costs show huge pr...          0.6369   \n",
       "3630  attention  your free ipads would go faster if ...          0.3887   \n",
       "1722                         claims  planning new 4  4           0.0000   \n",
       "2060  new 4inch iphone 6 reported 5 reasons apple mu...          0.0000   \n",
       "2369  you know what  stores have had these locks wee...          0.0000   \n",
       "3077  mastercard teams up with gwen stefani to promo...          0.4767   \n",
       "1828  steve wozniak calls s legendary garage a bit o...          0.0000   \n",
       "128                                           lol dying          0.4215   \n",
       "1734  vs video which dashboard interface is the best...          0.6369   \n",
       "787   but it wont fix the problem for good could bac...          0.7742   \n",
       "\n",
       "     sentiment_category  blob_sentiment  average_sentiment  \n",
       "1289           Positive        0.200000           0.418450  \n",
       "3630           Positive        0.300000           0.344350  \n",
       "1722           Positive        0.136364           0.068182  \n",
       "2060           Positive        0.136364           0.068182  \n",
       "2369           Positive        0.500000           0.250000  \n",
       "3077           Positive        1.000000           0.738350  \n",
       "1828           Positive        1.000000           0.500000  \n",
       "128            Positive        0.800000           0.610750  \n",
       "1734           Positive        1.000000           0.818450  \n",
       "787            Positive        0.350000           0.562100  "
      ]
     },
     "execution_count": 825,
     "metadata": {},
     "output_type": "execute_result"
    }
   ],
   "source": [
    "df_clean[df_clean['sentiment_category']=='Positive'].sample(10)"
   ]
  },
  {
   "cell_type": "code",
   "execution_count": 826,
   "metadata": {},
   "outputs": [],
   "source": [
    "stopwords_list = set(stopwords.words('english')) - {'not', 'never'}\n",
    "lemmatizer = WordNetLemmatizer()"
   ]
  },
  {
   "cell_type": "code",
   "execution_count": 827,
   "metadata": {},
   "outputs": [],
   "source": [
    "def preprocess_text(text):\n",
    "    tokens = [lemmatizer.lemmatize(word) for word in text.split() if word not in stopwords_list]\n",
    "    return ' '.join(tokens)\n",
    "\n",
    "df_clean['processed_text'] = df_clean['text'].apply(preprocess_text)"
   ]
  },
  {
   "cell_type": "code",
   "execution_count": 828,
   "metadata": {},
   "outputs": [
    {
     "data": {
      "text/html": [
       "<div>\n",
       "<style scoped>\n",
       "    .dataframe tbody tr th:only-of-type {\n",
       "        vertical-align: middle;\n",
       "    }\n",
       "\n",
       "    .dataframe tbody tr th {\n",
       "        vertical-align: top;\n",
       "    }\n",
       "\n",
       "    .dataframe thead th {\n",
       "        text-align: right;\n",
       "    }\n",
       "</style>\n",
       "<table border=\"1\" class=\"dataframe\">\n",
       "  <thead>\n",
       "    <tr style=\"text-align: right;\">\n",
       "      <th></th>\n",
       "      <th>text</th>\n",
       "      <th>nltk_sentiment</th>\n",
       "      <th>sentiment_category</th>\n",
       "      <th>blob_sentiment</th>\n",
       "      <th>average_sentiment</th>\n",
       "      <th>processed_text</th>\n",
       "    </tr>\n",
       "  </thead>\n",
       "  <tbody>\n",
       "    <tr>\n",
       "      <th>0</th>\n",
       "      <td>the 10 best steve jobs emails ever</td>\n",
       "      <td>0.6369</td>\n",
       "      <td>Positive</td>\n",
       "      <td>1.000000</td>\n",
       "      <td>0.818450</td>\n",
       "      <td>10 best steve job email ever</td>\n",
       "    </tr>\n",
       "    <tr>\n",
       "      <th>1</th>\n",
       "      <td>why aapl stock had a miniflash crash today aapl</td>\n",
       "      <td>-0.4019</td>\n",
       "      <td>Negative</td>\n",
       "      <td>0.000000</td>\n",
       "      <td>-0.200950</td>\n",
       "      <td>aapl stock miniflash crash today aapl</td>\n",
       "    </tr>\n",
       "    <tr>\n",
       "      <th>2</th>\n",
       "      <td>my cat only chews cords such an</td>\n",
       "      <td>0.0000</td>\n",
       "      <td>Neutral</td>\n",
       "      <td>0.000000</td>\n",
       "      <td>0.000000</td>\n",
       "      <td>cat chew cord</td>\n",
       "    </tr>\n",
       "    <tr>\n",
       "      <th>3</th>\n",
       "      <td>i agree with that the should own not trade  it...</td>\n",
       "      <td>0.6597</td>\n",
       "      <td>Positive</td>\n",
       "      <td>0.650000</td>\n",
       "      <td>0.654850</td>\n",
       "      <td>agree not trade extended today pullback good see</td>\n",
       "    </tr>\n",
       "    <tr>\n",
       "      <th>4</th>\n",
       "      <td>nobody expects the spanish inquisition</td>\n",
       "      <td>-0.2960</td>\n",
       "      <td>Negative</td>\n",
       "      <td>0.000000</td>\n",
       "      <td>-0.148000</td>\n",
       "      <td>nobody expects spanish inquisition</td>\n",
       "    </tr>\n",
       "    <tr>\n",
       "      <th>...</th>\n",
       "      <td>...</td>\n",
       "      <td>...</td>\n",
       "      <td>...</td>\n",
       "      <td>...</td>\n",
       "      <td>...</td>\n",
       "      <td>...</td>\n",
       "    </tr>\n",
       "    <tr>\n",
       "      <th>3880</th>\n",
       "      <td>hey is it normal for my laptop charger to be s...</td>\n",
       "      <td>0.4404</td>\n",
       "      <td>Positive</td>\n",
       "      <td>0.175000</td>\n",
       "      <td>0.307700</td>\n",
       "      <td>hey normal laptop charger soldering skin thanks j</td>\n",
       "    </tr>\n",
       "    <tr>\n",
       "      <th>3881</th>\n",
       "      <td>via fc apple is warming up to social media  ap...</td>\n",
       "      <td>0.1531</td>\n",
       "      <td>Positive</td>\n",
       "      <td>0.022222</td>\n",
       "      <td>0.087661</td>\n",
       "      <td>via fc apple warming social medium apple hirin...</td>\n",
       "    </tr>\n",
       "    <tr>\n",
       "      <th>3882</th>\n",
       "      <td>there is no avocado emoji may i ask why</td>\n",
       "      <td>-0.2960</td>\n",
       "      <td>Negative</td>\n",
       "      <td>0.000000</td>\n",
       "      <td>-0.148000</td>\n",
       "      <td>avocado emoji may ask</td>\n",
       "    </tr>\n",
       "    <tr>\n",
       "      <th>3883</th>\n",
       "      <td>i could not agree more between and only great ...</td>\n",
       "      <td>0.4570</td>\n",
       "      <td>Positive</td>\n",
       "      <td>0.433333</td>\n",
       "      <td>0.445167</td>\n",
       "      <td>could not agree great thing happen</td>\n",
       "    </tr>\n",
       "    <tr>\n",
       "      <th>3884</th>\n",
       "      <td>my iphone 5s photos are no longer downloading ...</td>\n",
       "      <td>0.1280</td>\n",
       "      <td>Positive</td>\n",
       "      <td>0.000000</td>\n",
       "      <td>0.064000</td>\n",
       "      <td>iphone 5 photo longer downloading automaticall...</td>\n",
       "    </tr>\n",
       "  </tbody>\n",
       "</table>\n",
       "<p>3027 rows × 6 columns</p>\n",
       "</div>"
      ],
      "text/plain": [
       "                                                   text  nltk_sentiment  \\\n",
       "0                    the 10 best steve jobs emails ever          0.6369   \n",
       "1       why aapl stock had a miniflash crash today aapl         -0.4019   \n",
       "2                      my cat only chews cords such an           0.0000   \n",
       "3     i agree with that the should own not trade  it...          0.6597   \n",
       "4                nobody expects the spanish inquisition         -0.2960   \n",
       "...                                                 ...             ...   \n",
       "3880  hey is it normal for my laptop charger to be s...          0.4404   \n",
       "3881  via fc apple is warming up to social media  ap...          0.1531   \n",
       "3882            there is no avocado emoji may i ask why         -0.2960   \n",
       "3883  i could not agree more between and only great ...          0.4570   \n",
       "3884  my iphone 5s photos are no longer downloading ...          0.1280   \n",
       "\n",
       "     sentiment_category  blob_sentiment  average_sentiment  \\\n",
       "0              Positive        1.000000           0.818450   \n",
       "1              Negative        0.000000          -0.200950   \n",
       "2               Neutral        0.000000           0.000000   \n",
       "3              Positive        0.650000           0.654850   \n",
       "4              Negative        0.000000          -0.148000   \n",
       "...                 ...             ...                ...   \n",
       "3880           Positive        0.175000           0.307700   \n",
       "3881           Positive        0.022222           0.087661   \n",
       "3882           Negative        0.000000          -0.148000   \n",
       "3883           Positive        0.433333           0.445167   \n",
       "3884           Positive        0.000000           0.064000   \n",
       "\n",
       "                                         processed_text  \n",
       "0                          10 best steve job email ever  \n",
       "1                 aapl stock miniflash crash today aapl  \n",
       "2                                         cat chew cord  \n",
       "3      agree not trade extended today pullback good see  \n",
       "4                    nobody expects spanish inquisition  \n",
       "...                                                 ...  \n",
       "3880  hey normal laptop charger soldering skin thanks j  \n",
       "3881  via fc apple warming social medium apple hirin...  \n",
       "3882                              avocado emoji may ask  \n",
       "3883                 could not agree great thing happen  \n",
       "3884  iphone 5 photo longer downloading automaticall...  \n",
       "\n",
       "[3027 rows x 6 columns]"
      ]
     },
     "execution_count": 828,
     "metadata": {},
     "output_type": "execute_result"
    }
   ],
   "source": [
    "df_clean"
   ]
  },
  {
   "cell_type": "code",
   "execution_count": 829,
   "metadata": {},
   "outputs": [
    {
     "name": "stderr",
     "output_type": "stream",
     "text": [
      "/var/folders/sh/s_xv2d8x6kv1_qyc9qgmkv300000gn/T/ipykernel_76174/3882354597.py:19: FutureWarning: \n",
      "\n",
      "Passing `palette` without assigning `hue` is deprecated and will be removed in v0.14.0. Assign the `y` variable to `hue` and set `legend=False` for the same effect.\n",
      "\n",
      "  sns.barplot(x='tfidf', y='word', data=tfidf_df, palette='Greens_d')\n"
     ]
    },
    {
     "data": {
      "image/png": "[encoded data removed]",
      "text/plain": [
       "<Figure size 1000x600 with 1 Axes>"
      ]
     },
     "metadata": {},
     "output_type": "display_data"
    }
   ],
   "source": [
    "from sklearn.feature_extraction.text import TfidfVectorizer\n",
    "\n",
    "# Define the TfidfVectorizer\n",
    "vectorizer = TfidfVectorizer(stop_words='english', max_features=1000)\n",
    "\n",
    "# Apply vectorizer to the text data\n",
    "X = vectorizer.fit_transform(df_clean['processed_text'])\n",
    "\n",
    "# Get the TF-IDF values\n",
    "tfidf_scores = X.sum(axis=0).A1\n",
    "tfidf_features = vectorizer.get_feature_names_out() \n",
    "\n",
    "# Create a DataFrame to store words and their TF-IDF scores\n",
    "tfidf_df = pd.DataFrame({'word': tfidf_features, 'tfidf': tfidf_scores})\n",
    "tfidf_df = tfidf_df.sort_values(by='tfidf', ascending=False).head(20)\n",
    "\n",
    "# Plot the top 20 words with the highest TF-IDF scores\n",
    "plt.figure(figsize=(10, 6))\n",
    "sns.barplot(x='tfidf', y='word', data=tfidf_df, palette='Greens_d')\n",
    "plt.title('Top 20 Words with Highest TF-IDF in Tweets About Apple')\n",
    "plt.xlabel('TF-IDF Score')\n",
    "plt.ylabel('Word')\n",
    "plt.show()"
   ]
  },
  {
   "cell_type": "markdown",
   "metadata": {},
   "source": [
    "The chart shows the most discussed topics, with higher bars indicating key focus areas like customer needs or product features, which can help prioritize user concerns."
   ]
  },
  {
   "cell_type": "code",
   "execution_count": 830,
   "metadata": {},
   "outputs": [],
   "source": [
    "from sklearn.cluster import KMeans\n",
    "\n",
    "kmeans = KMeans(3, random_state=42)\n",
    "clusters = kmeans.fit_predict(X)\n",
    "df_clean['cluster'] = clusters"
   ]
  },
  {
   "cell_type": "code",
   "execution_count": 831,
   "metadata": {},
   "outputs": [
    {
     "data": {
      "text/html": [
       "<div>\n",
       "<style scoped>\n",
       "    .dataframe tbody tr th:only-of-type {\n",
       "        vertical-align: middle;\n",
       "    }\n",
       "\n",
       "    .dataframe tbody tr th {\n",
       "        vertical-align: top;\n",
       "    }\n",
       "\n",
       "    .dataframe thead th {\n",
       "        text-align: right;\n",
       "    }\n",
       "</style>\n",
       "<table border=\"1\" class=\"dataframe\">\n",
       "  <thead>\n",
       "    <tr style=\"text-align: right;\">\n",
       "      <th></th>\n",
       "      <th>text</th>\n",
       "      <th>nltk_sentiment</th>\n",
       "      <th>sentiment_category</th>\n",
       "      <th>blob_sentiment</th>\n",
       "      <th>average_sentiment</th>\n",
       "      <th>processed_text</th>\n",
       "      <th>cluster</th>\n",
       "    </tr>\n",
       "  </thead>\n",
       "  <tbody>\n",
       "    <tr>\n",
       "      <th>0</th>\n",
       "      <td>the 10 best steve jobs emails ever</td>\n",
       "      <td>0.6369</td>\n",
       "      <td>Positive</td>\n",
       "      <td>1.000000</td>\n",
       "      <td>0.818450</td>\n",
       "      <td>10 best steve job email ever</td>\n",
       "      <td>0</td>\n",
       "    </tr>\n",
       "    <tr>\n",
       "      <th>1</th>\n",
       "      <td>why aapl stock had a miniflash crash today aapl</td>\n",
       "      <td>-0.4019</td>\n",
       "      <td>Negative</td>\n",
       "      <td>0.000000</td>\n",
       "      <td>-0.200950</td>\n",
       "      <td>aapl stock miniflash crash today aapl</td>\n",
       "      <td>1</td>\n",
       "    </tr>\n",
       "    <tr>\n",
       "      <th>2</th>\n",
       "      <td>my cat only chews cords such an</td>\n",
       "      <td>0.0000</td>\n",
       "      <td>Neutral</td>\n",
       "      <td>0.000000</td>\n",
       "      <td>0.000000</td>\n",
       "      <td>cat chew cord</td>\n",
       "      <td>0</td>\n",
       "    </tr>\n",
       "    <tr>\n",
       "      <th>3</th>\n",
       "      <td>i agree with that the should own not trade  it...</td>\n",
       "      <td>0.6597</td>\n",
       "      <td>Positive</td>\n",
       "      <td>0.650000</td>\n",
       "      <td>0.654850</td>\n",
       "      <td>agree not trade extended today pullback good see</td>\n",
       "      <td>0</td>\n",
       "    </tr>\n",
       "    <tr>\n",
       "      <th>4</th>\n",
       "      <td>nobody expects the spanish inquisition</td>\n",
       "      <td>-0.2960</td>\n",
       "      <td>Negative</td>\n",
       "      <td>0.000000</td>\n",
       "      <td>-0.148000</td>\n",
       "      <td>nobody expects spanish inquisition</td>\n",
       "      <td>0</td>\n",
       "    </tr>\n",
       "    <tr>\n",
       "      <th>...</th>\n",
       "      <td>...</td>\n",
       "      <td>...</td>\n",
       "      <td>...</td>\n",
       "      <td>...</td>\n",
       "      <td>...</td>\n",
       "      <td>...</td>\n",
       "      <td>...</td>\n",
       "    </tr>\n",
       "    <tr>\n",
       "      <th>3880</th>\n",
       "      <td>hey is it normal for my laptop charger to be s...</td>\n",
       "      <td>0.4404</td>\n",
       "      <td>Positive</td>\n",
       "      <td>0.175000</td>\n",
       "      <td>0.307700</td>\n",
       "      <td>hey normal laptop charger soldering skin thanks j</td>\n",
       "      <td>0</td>\n",
       "    </tr>\n",
       "    <tr>\n",
       "      <th>3881</th>\n",
       "      <td>via fc apple is warming up to social media  ap...</td>\n",
       "      <td>0.1531</td>\n",
       "      <td>Positive</td>\n",
       "      <td>0.022222</td>\n",
       "      <td>0.087661</td>\n",
       "      <td>via fc apple warming social medium apple hirin...</td>\n",
       "      <td>1</td>\n",
       "    </tr>\n",
       "    <tr>\n",
       "      <th>3882</th>\n",
       "      <td>there is no avocado emoji may i ask why</td>\n",
       "      <td>-0.2960</td>\n",
       "      <td>Negative</td>\n",
       "      <td>0.000000</td>\n",
       "      <td>-0.148000</td>\n",
       "      <td>avocado emoji may ask</td>\n",
       "      <td>0</td>\n",
       "    </tr>\n",
       "    <tr>\n",
       "      <th>3883</th>\n",
       "      <td>i could not agree more between and only great ...</td>\n",
       "      <td>0.4570</td>\n",
       "      <td>Positive</td>\n",
       "      <td>0.433333</td>\n",
       "      <td>0.445167</td>\n",
       "      <td>could not agree great thing happen</td>\n",
       "      <td>0</td>\n",
       "    </tr>\n",
       "    <tr>\n",
       "      <th>3884</th>\n",
       "      <td>my iphone 5s photos are no longer downloading ...</td>\n",
       "      <td>0.1280</td>\n",
       "      <td>Positive</td>\n",
       "      <td>0.000000</td>\n",
       "      <td>0.064000</td>\n",
       "      <td>iphone 5 photo longer downloading automaticall...</td>\n",
       "      <td>2</td>\n",
       "    </tr>\n",
       "  </tbody>\n",
       "</table>\n",
       "<p>3027 rows × 7 columns</p>\n",
       "</div>"
      ],
      "text/plain": [
       "                                                   text  nltk_sentiment  \\\n",
       "0                    the 10 best steve jobs emails ever          0.6369   \n",
       "1       why aapl stock had a miniflash crash today aapl         -0.4019   \n",
       "2                      my cat only chews cords such an           0.0000   \n",
       "3     i agree with that the should own not trade  it...          0.6597   \n",
       "4                nobody expects the spanish inquisition         -0.2960   \n",
       "...                                                 ...             ...   \n",
       "3880  hey is it normal for my laptop charger to be s...          0.4404   \n",
       "3881  via fc apple is warming up to social media  ap...          0.1531   \n",
       "3882            there is no avocado emoji may i ask why         -0.2960   \n",
       "3883  i could not agree more between and only great ...          0.4570   \n",
       "3884  my iphone 5s photos are no longer downloading ...          0.1280   \n",
       "\n",
       "     sentiment_category  blob_sentiment  average_sentiment  \\\n",
       "0              Positive        1.000000           0.818450   \n",
       "1              Negative        0.000000          -0.200950   \n",
       "2               Neutral        0.000000           0.000000   \n",
       "3              Positive        0.650000           0.654850   \n",
       "4              Negative        0.000000          -0.148000   \n",
       "...                 ...             ...                ...   \n",
       "3880           Positive        0.175000           0.307700   \n",
       "3881           Positive        0.022222           0.087661   \n",
       "3882           Negative        0.000000          -0.148000   \n",
       "3883           Positive        0.433333           0.445167   \n",
       "3884           Positive        0.000000           0.064000   \n",
       "\n",
       "                                         processed_text  cluster  \n",
       "0                          10 best steve job email ever        0  \n",
       "1                 aapl stock miniflash crash today aapl        1  \n",
       "2                                         cat chew cord        0  \n",
       "3      agree not trade extended today pullback good see        0  \n",
       "4                    nobody expects spanish inquisition        0  \n",
       "...                                                 ...      ...  \n",
       "3880  hey normal laptop charger soldering skin thanks j        0  \n",
       "3881  via fc apple warming social medium apple hirin...        1  \n",
       "3882                              avocado emoji may ask        0  \n",
       "3883                 could not agree great thing happen        0  \n",
       "3884  iphone 5 photo longer downloading automaticall...        2  \n",
       "\n",
       "[3027 rows x 7 columns]"
      ]
     },
     "execution_count": 831,
     "metadata": {},
     "output_type": "execute_result"
    }
   ],
   "source": [
    "df_clean"
   ]
  },
  {
   "cell_type": "markdown",
   "metadata": {},
   "source": [
    "In attempt to identify the clusters using the sentiment score obtained from VADER earlier, the histograms for each cluster are plotted\n",
    "\n",
    "Expectation: Each cluster has a clear majority of tweets crowded around positive, negative or neutral."
   ]
  },
  {
   "cell_type": "code",
   "execution_count": 832,
   "metadata": {},
   "outputs": [
    {
     "data": {
      "text/plain": [
       "<Axes: ylabel='Frequency'>"
      ]
     },
     "execution_count": 832,
     "metadata": {},
     "output_type": "execute_result"
    },
    {
     "data": {
      "image/png": "[encoded data removed]",
      "text/plain": [
       "<Figure size 640x480 with 1 Axes>"
      ]
     },
     "metadata": {},
     "output_type": "display_data"
    }
   ],
   "source": [
    "df_clean[df_clean['cluster'] == 0]['average_sentiment'].plot.hist()"
   ]
  },
  {
   "cell_type": "code",
   "execution_count": 833,
   "metadata": {},
   "outputs": [
    {
     "data": {
      "text/plain": [
       "<Axes: ylabel='Frequency'>"
      ]
     },
     "execution_count": 833,
     "metadata": {},
     "output_type": "execute_result"
    },
    {
     "data": {
      "image/png": "[encoded data removed]",
      "text/plain": [
       "<Figure size 640x480 with 1 Axes>"
      ]
     },
     "metadata": {},
     "output_type": "display_data"
    }
   ],
   "source": [
    "df_clean[df_clean['cluster'] == 1]['average_sentiment'].plot.hist()"
   ]
  },
  {
   "cell_type": "code",
   "execution_count": 834,
   "metadata": {},
   "outputs": [
    {
     "data": {
      "text/plain": [
       "<Axes: ylabel='Frequency'>"
      ]
     },
     "execution_count": 834,
     "metadata": {},
     "output_type": "execute_result"
    },
    {
     "data": {
      "image/png": "[encoded data removed]",
      "text/plain": [
       "<Figure size 640x480 with 1 Axes>"
      ]
     },
     "metadata": {},
     "output_type": "display_data"
    }
   ],
   "source": [
    "df_clean[df_clean['cluster'] == 2]['average_sentiment'].plot.hist()"
   ]
  },
  {
   "cell_type": "markdown",
   "metadata": {},
   "source": [
    "The K-means model, evident by the lack of meaningful difference in distribution of average scores for each cluster seems to fail to cluster the tweets in a manner that is significantly better than what the vader model was able to do."
   ]
  },
  {
   "cell_type": "markdown",
   "metadata": {},
   "source": [
    "## Conclusions\n",
    "\n",
    "The overall sentiment of apple leans positive. The most accurate sentiment analysis menthod is the combination of VADER and Blob. \n",
    "\n",
    "The most common topic seems to be the iPhone.\n",
    "\n",
    "The frequent appearance of curse words suggests significant frustration among a group of stakeholders. This may be as individuals individuals tend to flock to twitter/X mainly when they face issues with the product"
   ]
  },
  {
   "cell_type": "code",
   "execution_count": null,
   "metadata": {},
   "outputs": [],
   "source": []
  }
 ],
 "metadata": {
  "kernelspec": {
   "display_name": "learn-env",
   "language": "python",
   "name": "python3"
  },
  "language_info": {
   "codemirror_mode": {
    "name": "ipython",
    "version": 3
   },
   "file_extension": ".py",
   "mimetype": "text/x-python",
   "name": "python",
   "nbconvert_exporter": "python",
   "pygments_lexer": "ipython3",
   "version": "3.8.5"
  }
 },
 "nbformat": 4,
 "nbformat_minor": 2
}
