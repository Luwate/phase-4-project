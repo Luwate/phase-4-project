{
 "cells": [
  {
   "cell_type": "markdown",
   "metadata": {},
   "source": [
    "## CLEANING DATA"
   ]
  },
  {
   "cell_type": "code",
   "execution_count": 43,
   "metadata": {},
   "outputs": [],
   "source": [
    "import pandas as pd\n",
    "import numpy as np\n",
    "import matplotlib.pyplot as plt\n",
    "import seaborn as sns\n",
    "import re\n",
    "import nltk\n",
    "from nltk.corpus import stopwords\n",
    "from nltk.tokenize import word_tokenize\n"
   ]
  },
  {
   "cell_type": "code",
   "execution_count": 44,
   "metadata": {},
   "outputs": [],
   "source": [
    "#Read the data \n",
    "df=pd.read_csv('Apple-Twitter-Sentiment-DFE.csv', encoding='latin1')"
   ]
  },
  {
   "cell_type": "code",
   "execution_count": 45,
   "metadata": {},
   "outputs": [
    {
     "data": {
      "text/plain": [
       "3               2162\n",
       "1               1219\n",
       "5                423\n",
       "not_relevant      82\n",
       "Name: sentiment, dtype: int64"
      ]
     },
     "execution_count": 45,
     "metadata": {},
     "output_type": "execute_result"
    }
   ],
   "source": [
    "df['sentiment'].value_counts(\n",
    ")"
   ]
  },
  {
   "cell_type": "code",
   "execution_count": 46,
   "metadata": {},
   "outputs": [
    {
     "name": "stdout",
     "output_type": "stream",
     "text": [
      "<class 'pandas.core.frame.DataFrame'>\n",
      "RangeIndex: 3886 entries, 0 to 3885\n",
      "Data columns (total 12 columns):\n",
      " #   Column                Non-Null Count  Dtype  \n",
      "---  ------                --------------  -----  \n",
      " 0   _unit_id              3886 non-null   int64  \n",
      " 1   _golden               3886 non-null   bool   \n",
      " 2   _unit_state           3886 non-null   object \n",
      " 3   _trusted_judgments    3886 non-null   int64  \n",
      " 4   _last_judgment_at     3783 non-null   object \n",
      " 5   sentiment             3886 non-null   object \n",
      " 6   sentiment:confidence  3886 non-null   float64\n",
      " 7   date                  3886 non-null   object \n",
      " 8   id                    3886 non-null   float64\n",
      " 9   query                 3886 non-null   object \n",
      " 10  sentiment_gold        103 non-null    object \n",
      " 11  text                  3886 non-null   object \n",
      "dtypes: bool(1), float64(2), int64(2), object(7)\n",
      "memory usage: 337.9+ KB\n"
     ]
    }
   ],
   "source": [
    "df.info()"
   ]
  },
  {
   "cell_type": "code",
   "execution_count": 47,
   "metadata": {},
   "outputs": [
    {
     "data": {
      "text/plain": [
       "_unit_id                   0\n",
       "_golden                    0\n",
       "_unit_state                0\n",
       "_trusted_judgments         0\n",
       "_last_judgment_at        103\n",
       "sentiment                  0\n",
       "sentiment:confidence       0\n",
       "date                       0\n",
       "id                         0\n",
       "query                      0\n",
       "sentiment_gold          3783\n",
       "text                       0\n",
       "dtype: int64"
      ]
     },
     "execution_count": 47,
     "metadata": {},
     "output_type": "execute_result"
    }
   ],
   "source": [
    "df.isna().sum()"
   ]
  },
  {
   "cell_type": "code",
   "execution_count": 48,
   "metadata": {},
   "outputs": [],
   "source": [
    "df.drop(columns=['_last_judgment_at', 'sentiment_gold'],inplace=True)"
   ]
  },
  {
   "cell_type": "code",
   "execution_count": 49,
   "metadata": {},
   "outputs": [
    {
     "name": "stdout",
     "output_type": "stream",
     "text": [
      "<class 'pandas.core.frame.DataFrame'>\n",
      "RangeIndex: 3886 entries, 0 to 3885\n",
      "Data columns (total 10 columns):\n",
      " #   Column                Non-Null Count  Dtype  \n",
      "---  ------                --------------  -----  \n",
      " 0   _unit_id              3886 non-null   int64  \n",
      " 1   _golden               3886 non-null   bool   \n",
      " 2   _unit_state           3886 non-null   object \n",
      " 3   _trusted_judgments    3886 non-null   int64  \n",
      " 4   sentiment             3886 non-null   object \n",
      " 5   sentiment:confidence  3886 non-null   float64\n",
      " 6   date                  3886 non-null   object \n",
      " 7   id                    3886 non-null   float64\n",
      " 8   query                 3886 non-null   object \n",
      " 9   text                  3886 non-null   object \n",
      "dtypes: bool(1), float64(2), int64(2), object(5)\n",
      "memory usage: 277.2+ KB\n"
     ]
    }
   ],
   "source": [
    "df.info()"
   ]
  },
  {
   "cell_type": "code",
   "execution_count": 50,
   "metadata": {},
   "outputs": [],
   "source": [
    "df_clean=df.copy()"
   ]
  },
  {
   "cell_type": "code",
   "execution_count": 51,
   "metadata": {},
   "outputs": [],
   "source": [
    "\n",
    "def clean_text(text):\n",
    "    if isinstance(text, str):\n",
    "        # Remove URLs\n",
    "        text = re.sub(r'http\\S+|www\\S+', '', text)\n",
    "        # Remove mentions\n",
    "        text = re.sub(r'@\\w+', '', text)\n",
    "        # Remove hashtags\n",
    "        text = re.sub(r'#\\w+', '', text)\n",
    "        # Remove RT (retweet) indicator\n",
    "        text = re.sub(r'^RT\\s+', '', text)\n",
    "        # Remove multiple spaces and strip\n",
    "        text = re.sub(r'\\s+', ' ', text)\n",
    "        text = text.strip()\n",
    "    return text"
   ]
  },
  {
   "cell_type": "code",
   "execution_count": 52,
   "metadata": {},
   "outputs": [],
   "source": [
    "# Apply cleaning to the 'text' column\n",
    "df_clean['text'] = df_clean['text'].apply(clean_text)"
   ]
  },
  {
   "cell_type": "code",
   "execution_count": 53,
   "metadata": {},
   "outputs": [
    {
     "data": {
      "text/plain": [
       "<bound method DataFrame.info of        _unit_id  _golden _unit_state  _trusted_judgments sentiment  \\\n",
       "0     623495513     True      golden                  10         3   \n",
       "1     623495514     True      golden                  12         3   \n",
       "2     623495515     True      golden                  10         3   \n",
       "3     623495516     True      golden                  17         3   \n",
       "4     623495517    False   finalized                   3         3   \n",
       "...         ...      ...         ...                 ...       ...   \n",
       "3881  623499442     True      golden                  13         3   \n",
       "3882  623499450     True      golden                  16         3   \n",
       "3883  623499486     True      golden                  14         5   \n",
       "3884  623499514     True      golden                  13         1   \n",
       "3885  623517290     True      golden                  17         5   \n",
       "\n",
       "      sentiment:confidence                            date            id  \\\n",
       "0                   0.6264  Mon Dec 01 19:30:03 +0000 2014  5.400000e+17   \n",
       "1                   0.8129  Mon Dec 01 19:43:51 +0000 2014  5.400000e+17   \n",
       "2                   1.0000  Mon Dec 01 19:50:28 +0000 2014  5.400000e+17   \n",
       "3                   0.5848  Mon Dec 01 20:26:34 +0000 2014  5.400000e+17   \n",
       "4                   0.6474  Mon Dec 01 20:29:33 +0000 2014  5.400000e+17   \n",
       "...                    ...                             ...           ...   \n",
       "3881                0.7757  Tue Dec 09 22:08:53 +0000 2014  5.420000e+17   \n",
       "3882                0.6225  Tue Dec 09 22:18:27 +0000 2014  5.420000e+17   \n",
       "3883                0.9347  Tue Dec 09 23:45:59 +0000 2014  5.420000e+17   \n",
       "3884                0.9230  Wed Dec 10 00:48:10 +0000 2014  5.420000e+17   \n",
       "3885                0.8938  Tue Dec 09 09:01:25 +0000 2014  5.420000e+17   \n",
       "\n",
       "                query                                               text  \n",
       "0     #AAPL OR @Apple  #AAPL:The 10 best Steve Jobs emails ever...htt...  \n",
       "1     #AAPL OR @Apple  RT @JPDesloges: Why AAPL Stock Had a Mini-Flas...  \n",
       "2     #AAPL OR @Apple  My cat only chews @apple cords. Such an #Apple...  \n",
       "3     #AAPL OR @Apple  I agree with @jimcramer that the #IndividualIn...  \n",
       "4     #AAPL OR @Apple       Nobody expects the Spanish Inquisition #AAPL  \n",
       "...               ...                                                ...  \n",
       "3881  #AAPL OR @Apple  (Via FC) Apple Is Warming Up To Social Media -...  \n",
       "3882  #AAPL OR @Apple  RT @MMLXIV: there is no avocado emoji may I as...  \n",
       "3883  #AAPL OR @Apple  @marcbulandr I could not agree more. Between @...  \n",
       "3884  #AAPL OR @Apple  My iPhone 5's photos are no longer downloading...  \n",
       "3885  #AAPL OR @Apple  RT @SwiftKey: We're so excited to be named to ...  \n",
       "\n",
       "[3886 rows x 10 columns]>"
      ]
     },
     "execution_count": 53,
     "metadata": {},
     "output_type": "execute_result"
    }
   ],
   "source": [
    "df.info"
   ]
  },
  {
   "cell_type": "code",
   "execution_count": 54,
   "metadata": {},
   "outputs": [
    {
     "name": "stdout",
     "output_type": "stream",
     "text": [
      "_unit_id                  int64\n",
      "_golden                    bool\n",
      "_unit_state              object\n",
      "_trusted_judgments        int64\n",
      "sentiment                object\n",
      "sentiment:confidence    float64\n",
      "date                     object\n",
      "id                      float64\n",
      "query                    object\n",
      "text                     object\n",
      "dtype: object\n"
     ]
    }
   ],
   "source": [
    "print(df.dtypes)"
   ]
  },
  {
   "cell_type": "code",
   "execution_count": 55,
   "metadata": {},
   "outputs": [
    {
     "name": "stdout",
     "output_type": "stream",
     "text": [
      "Empty DataFrame\n",
      "Columns: [_unit_id, _golden, _unit_state, _trusted_judgments, sentiment, sentiment:confidence, date, id, query, text]\n",
      "Index: []\n"
     ]
    }
   ],
   "source": [
    "print(df[df.duplicated()])"
   ]
  },
  {
   "cell_type": "code",
   "execution_count": 56,
   "metadata": {},
   "outputs": [
    {
     "name": "stdout",
     "output_type": "stream",
     "text": [
      "Before cleaning:\n",
      "0    #AAPL:The 10 best Steve Jobs emails ever...htt...\n",
      "1    RT @JPDesloges: Why AAPL Stock Had a Mini-Flas...\n",
      "2    My cat only chews @apple cords. Such an #Apple...\n",
      "3    I agree with @jimcramer that the #IndividualIn...\n",
      "4         Nobody expects the Spanish Inquisition #AAPL\n",
      "Name: text, dtype: object\n",
      "After cleaning:\n",
      "0               :The 10 best Steve Jobs emails ever...\n",
      "1    : Why AAPL Stock Had a Mini-Flash Crash Today ...\n",
      "2                   My cat only chews cords. Such an .\n",
      "3    I agree with that the should own not trade , i...\n",
      "4               Nobody expects the Spanish Inquisition\n",
      "Name: text, dtype: object\n"
     ]
    }
   ],
   "source": [
    "print(\"Before cleaning:\")\n",
    "print(df['text'].head())\n",
    "print(\"\\\n",
    "After cleaning:\")\n",
    "print(df_clean['text'].head())"
   ]
  }
 ],
 "metadata": {
  "kernelspec": {
   "display_name": "learn-env",
   "language": "python",
   "name": "python3"
  },
  "language_info": {
   "codemirror_mode": {
    "name": "ipython",
    "version": 3
   },
   "file_extension": ".py",
   "mimetype": "text/x-python",
   "name": "python",
   "nbconvert_exporter": "python",
   "pygments_lexer": "ipython3",
   "version": "3.8.5"
  }
 },
 "nbformat": 4,
 "nbformat_minor": 2
}
